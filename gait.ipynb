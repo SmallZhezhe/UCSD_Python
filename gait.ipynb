{
 "cells": [
  {
   "cell_type": "code",
   "execution_count": 1,
   "metadata": {},
   "outputs": [],
   "source": [
    "import pandas as pd\n",
    "import numpy as np"
   ]
  },
  {
   "cell_type": "code",
   "execution_count": 118,
   "metadata": {},
   "outputs": [
    {
     "name": "stdout",
     "output_type": "stream",
     "text": [
      "The score of rbf is : 0.666667\n",
      "The score of linear is : 0.500000\n",
      "The score of poly is : 0.833333\n"
     ]
    },
    {
     "name": "stderr",
     "output_type": "stream",
     "text": [
      "/home/liyunzhe/Downloads/enter/lib/python3.7/site-packages/sklearn/utils/validation.py:724: DataConversionWarning: A column-vector y was passed when a 1d array was expected. Please change the shape of y to (n_samples, ), for example using ravel().\n",
      "  y = column_or_1d(y, warn=True)\n",
      "/home/liyunzhe/Downloads/enter/lib/python3.7/site-packages/sklearn/svm/base.py:193: FutureWarning: The default value of gamma will change from 'auto' to 'scale' in version 0.22 to account better for unscaled features. Set gamma explicitly to 'auto' or 'scale' to avoid this warning.\n",
      "  \"avoid this warning.\", FutureWarning)\n",
      "/home/liyunzhe/Downloads/enter/lib/python3.7/site-packages/sklearn/utils/validation.py:724: DataConversionWarning: A column-vector y was passed when a 1d array was expected. Please change the shape of y to (n_samples, ), for example using ravel().\n",
      "  y = column_or_1d(y, warn=True)\n",
      "/home/liyunzhe/Downloads/enter/lib/python3.7/site-packages/sklearn/utils/validation.py:724: DataConversionWarning: A column-vector y was passed when a 1d array was expected. Please change the shape of y to (n_samples, ), for example using ravel().\n",
      "  y = column_or_1d(y, warn=True)\n",
      "/home/liyunzhe/Downloads/enter/lib/python3.7/site-packages/sklearn/svm/base.py:193: FutureWarning: The default value of gamma will change from 'auto' to 'scale' in version 0.22 to account better for unscaled features. Set gamma explicitly to 'auto' or 'scale' to avoid this warning.\n",
      "  \"avoid this warning.\", FutureWarning)\n"
     ]
    }
   ],
   "source": [
    "from sklearn import svm\n",
    "from sklearn import datasets\n",
    "from sklearn.model_selection import train_test_split as ts\n",
    "from numpy import *\n",
    "import pandas as pd\n",
    "import matplotlib.pyplot as plt\n",
    "\n",
    "df=pd.read_csv('data2.csv')\n",
    "\n",
    "X=array(df[['skewness_x', 'skewness_y', 'skewness_z',\n",
    "           'kurtosis_x', 'kurtosis_y', 'kurtosis_z',\n",
    "           'std_x', 'std_y', 'std_z',\n",
    "           'cov_xy', 'cov_xz', 'cov_yz',\n",
    "           'mpsd_x', 'mpsd_y', 'mpsd_z',\n",
    "           'spsd_x', 'spsd_y', 'spsd_z',\n",
    "           'fftx1','fftx2','fftx3','fftx4',\n",
    "           'fftx5','fftx6','fftx7','fftx8',\n",
    "           'fftx9','fftx10','fftx11','fftx12',\n",
    "           'fftx13','fftx14','fftx15','fftx16',\n",
    "           'fftx17','fftx18','fftx19','fftx20',\n",
    "           'fftx21','fftx22','fftx23','fftx24',\n",
    "           'fftx25','fftx26','fftx27','fftx28',\n",
    "           'fftx29','fftx30','fftx31','fftx32',\n",
    "           'ffty1','ffty2','ffty3','ffty4',\n",
    "           'ffty5','ffty6','ffty7','ffty8',\n",
    "           'ffty9','ffty10','ffty11','ffty12',\n",
    "           'ffty13','ffty14','ffty15','ffty16',\n",
    "           'ffty17','ffty18','ffty19','ffty20',\n",
    "           'ffty21','ffty22','ffty23','ffty24',\n",
    "           'ffty25','ffty26','ffty27','ffty28',\n",
    "           'ffty29','ffty30','ffty31','ffty32',\n",
    "           'fftz1','fftz2','fftz3','fftz4',\n",
    "           'fftz5','fftz6','fftz7','fftz8',\n",
    "           'fftz9','fftz10','fftz11','fftz12',\n",
    "           'fftz13','fftz14','fftz15','fftz16',\n",
    "           'fftz17','fftz18','fftz19','fftz20',\n",
    "           'fftz21','fftz22','fftz23','fftz24',\n",
    "           'fftz25','fftz26','fftz27','fftz28',\n",
    "           'fftz29','fftz30','fftz31','fftz32']])\n",
    "\n",
    "y = array(df[['tired']])\n",
    "\n",
    "#split the data to  7:3\n",
    "X_train,X_test,y_train,y_test = ts(xa,y,test_size=0.3)\n",
    "\n",
    "# select different type of kernel function and compare the score\n",
    "\n",
    "# kernel = 'rbf'\n",
    "clf_rbf = svm.SVC(kernel='rbf')\n",
    "clf_rbf.fit(X_train,y_train)\n",
    "score_rbf = clf_rbf.score(X_test,y_test)\n",
    "print(\"The score of rbf is : %f\"%score_rbf)\n",
    "\n",
    "# kernel = 'linear'\n",
    "clf_linear = svm.SVC(kernel='linear')\n",
    "clf_linear.fit(X_train,y_train)\n",
    "score_linear = clf_linear.score(X_test,y_test)\n",
    "print(\"The score of linear is : %f\"%score_linear)\n",
    "\n",
    "# kernel = 'poly'\n",
    "clf_poly = svm.SVC(kernel='poly')\n",
    "clf_poly.fit(X_train,y_train)\n",
    "score_poly = clf_poly.score(X_test,y_test)\n",
    "print(\"The score of poly is : %f\"%score_poly)"
   ]
  },
  {
   "cell_type": "code",
   "execution_count": 88,
   "metadata": {},
   "outputs": [],
   "source": [
    "import numpy as np\n",
    "from sklearn.decomposition import PCA\n",
    "pca=PCA(n_components=4)\n",
    "pca.fit(X)\n",
    "x = pca.transform(X)"
   ]
  },
  {
   "cell_type": "code",
   "execution_count": 89,
   "metadata": {},
   "outputs": [
    {
     "data": {
      "text/plain": [
       "array([[  4.00832429,   2.41828645,   3.82748969,  -1.57436454,\n",
       "          1.        ],\n",
       "       [ 16.59800057,   5.81349678,   4.61252932,  -1.08796649,\n",
       "          1.        ],\n",
       "       [ 22.38623935,  -4.47294732,   1.59159203,   3.51717987,\n",
       "          1.        ],\n",
       "       [ 15.51092876, -11.6846271 ,  -0.12996361,   0.057557  ,\n",
       "          1.        ],\n",
       "       [  2.62048233, -10.41497845,   1.43018653,   0.64910253,\n",
       "          1.        ],\n",
       "       [-13.47575381,  -0.52961236,   0.84216282,   0.1452306 ,\n",
       "          1.        ],\n",
       "       [-19.7152903 ,  -0.443568  ,   0.15046631,   0.30996242,\n",
       "          1.        ],\n",
       "       [ 15.40479387,   7.84386067,   0.99450052,  -1.58216562,\n",
       "          1.        ],\n",
       "       [  6.01996637,  13.128077  ,  -2.05748381,   3.18299124,\n",
       "          1.        ],\n",
       "       [ -5.83602646,   0.9535689 ,  -1.23243772,  -0.32731909,\n",
       "          1.        ],\n",
       "       [-22.27203195,   0.93248956,  -0.06692999,   0.19789746,\n",
       "          5.        ],\n",
       "       [-19.78568514,  -0.4360259 ,   0.15746071,   0.31963733,\n",
       "          5.        ],\n",
       "       [ 10.62031291,  -1.5360612 ,  -2.87558821,  -2.55456262,\n",
       "          5.        ],\n",
       "       [ -5.83602646,   0.9535689 ,  -1.23243772,  -0.32731909,\n",
       "          5.        ],\n",
       "       [ 22.8172184 ,   0.28581263,  -1.48810646,   0.13689825,\n",
       "          5.        ],\n",
       "       [-13.47575381,  -0.52961236,   0.84216282,   0.1452306 ,\n",
       "          5.        ],\n",
       "       [-19.7152903 ,  -0.443568  ,   0.15046631,   0.30996242,\n",
       "          5.        ],\n",
       "       [ 18.60681088,  -0.35376246,  -3.32342104,  -0.56785142,\n",
       "          5.        ],\n",
       "       [ -5.78337427,  -0.82840945,  -3.11036155,  -0.82137664,\n",
       "          5.        ],\n",
       "       [ -8.69784523,  -0.6559883 ,   0.91771304,  -0.12872421,\n",
       "          5.        ]])"
      ]
     },
     "execution_count": 89,
     "metadata": {},
     "output_type": "execute_result"
    }
   ],
   "source": [
    "label = np.array([1,1,1,1,1,1,1,1,1,1,5,5,5,5,5,5,5,5,5,5])\n",
    "label\n",
    "xf = np.column_stack((x,label))\n",
    "xf"
   ]
  },
  {
   "cell_type": "code",
   "execution_count": 19,
   "metadata": {},
   "outputs": [
    {
     "data": {
      "text/plain": [
       "<matplotlib.axes._subplots.AxesSubplot at 0x7f86298277f0>"
      ]
     },
     "execution_count": 19,
     "metadata": {},
     "output_type": "execute_result"
    },
    {
     "data": {
      "image/png": "[encoded data removed]",
      "text/plain": [
       "<Figure size 432x288 with 1 Axes>"
      ]
     },
     "metadata": {
      "needs_background": "light"
     },
     "output_type": "display_data"
    }
   ],
   "source": [
    "df = pd.DataFrame(x, columns=['a', 'b'])\n",
    "df.plot.scatter(x='a', y='b')"
   ]
  },
  {
   "cell_type": "code",
   "execution_count": 63,
   "metadata": {},
   "outputs": [
    {
     "data": {
      "text/plain": [
       "<matplotlib.collections.PathCollection at 0x7f86286994e0>"
      ]
     },
     "execution_count": 63,
     "metadata": {},
     "output_type": "execute_result"
    },
    {
     "data": {
      "image/png": "[encoded data removed]",
      "text/plain": [
       "<Figure size 432x288 with 1 Axes>"
      ]
     },
     "metadata": {
      "needs_background": "light"
     },
     "output_type": "display_data"
    }
   ],
   "source": [
    "f1 = plt.figure(1)\n",
    "plt.subplot(211)\n",
    "plt.scatter(xf[:,1],xf[:,0])"
   ]
  },
  {
   "cell_type": "code",
   "execution_count": 102,
   "metadata": {},
   "outputs": [
    {
     "data": {
      "text/plain": [
       "<matplotlib.collections.PathCollection at 0x7f8627b3add8>"
      ]
     },
     "execution_count": 102,
     "metadata": {},
     "output_type": "execute_result"
    },
    {
     "data": {
      "image/png": "[encoded data removed]",
      "text/plain": [
       "<Figure size 432x288 with 1 Axes>"
      ]
     },
     "metadata": {
      "needs_background": "light"
     },
     "output_type": "display_data"
    }
   ],
   "source": [
    "plt.subplot(212)\n",
    "colors = ['b','g']\n",
    "plt.scatter(xa[:,0],xa[:,1],15*label)"
   ]
  },
  {
   "cell_type": "code",
   "execution_count": 52,
   "metadata": {},
   "outputs": [],
   "source": [
    "import matplotlib"
   ]
  },
  {
   "cell_type": "code",
   "execution_count": 56,
   "metadata": {},
   "outputs": [
    {
     "data": {
      "text/plain": [
       "<matplotlib.axes._subplots.AxesSubplot at 0x7f86283cc588>"
      ]
     },
     "execution_count": 56,
     "metadata": {},
     "output_type": "execute_result"
    },
    {
     "data": {
      "image/png": "[encoded data removed]",
      "text/plain": [
       "<Figure size 432x288 with 1 Axes>"
      ]
     },
     "metadata": {
      "needs_background": "light"
     },
     "output_type": "display_data"
    }
   ],
   "source": [
    "df = pd.DataFrame(xf, columns=['a', 'b','c'])\n",
    "df.plot.scatter(x='a', y='b')"
   ]
  },
  {
   "cell_type": "code",
   "execution_count": 61,
   "metadata": {},
   "outputs": [
    {
     "data": {
      "text/plain": [
       "<matplotlib.axes._subplots.AxesSubplot at 0x7f8627ec2dd8>"
      ]
     },
     "execution_count": 61,
     "metadata": {},
     "output_type": "execute_result"
    },
    {
     "data": {
      "image/png": "[encoded data removed]",
      "text/plain": [
       "<Figure size 432x288 with 1 Axes>"
      ]
     },
     "metadata": {
      "needs_background": "light"
     },
     "output_type": "display_data"
    }
   ],
   "source": [
    "ax = df.plot.scatter(x='a', y='b', color='b', label='Group 1')\n",
    "df.plot.scatter(x='a', y='c', color='r', label='Group 2',ax=ax)"
   ]
  },
  {
   "cell_type": "code",
   "execution_count": 100,
   "metadata": {},
   "outputs": [
    {
     "data": {
      "text/plain": [
       "array([[  2.41828645,  -1.57436454],\n",
       "       [  5.81349678,  -1.08796649],\n",
       "       [ -4.47294732,   3.51717987],\n",
       "       [-11.6846271 ,   0.057557  ],\n",
       "       [-10.41497845,   0.64910253],\n",
       "       [ -0.52961236,   0.1452306 ],\n",
       "       [ -0.443568  ,   0.30996242],\n",
       "       [  7.84386067,  -1.58216562],\n",
       "       [ 13.128077  ,   3.18299124],\n",
       "       [  0.9535689 ,  -0.32731909],\n",
       "       [  0.93248956,   0.19789746],\n",
       "       [ -0.4360259 ,   0.31963733],\n",
       "       [ -1.5360612 ,  -2.55456262],\n",
       "       [  0.9535689 ,  -0.32731909],\n",
       "       [  0.28581263,   0.13689825],\n",
       "       [ -0.52961236,   0.1452306 ],\n",
       "       [ -0.443568  ,   0.30996242],\n",
       "       [ -0.35376246,  -0.56785142],\n",
       "       [ -0.82840945,  -0.82137664],\n",
       "       [ -0.6559883 ,  -0.12872421]])"
      ]
     },
     "execution_count": 100,
     "metadata": {},
     "output_type": "execute_result"
    }
   ],
   "source": [
    "xa = xf[:,1]\n",
    "xa = np.column_stack((xa,xf[:,3]))\n",
    "xa"
   ]
  }
 ],
 "metadata": {
  "kernelspec": {
   "display_name": "Python 3",
   "language": "python",
   "name": "python3"
  },
  "language_info": {
   "codemirror_mode": {
    "name": "ipython",
    "version": 3
   },
   "file_extension": ".py",
   "mimetype": "text/x-python",
   "name": "python",
   "nbconvert_exporter": "python",
   "pygments_lexer": "ipython3",
   "version": "3.7.3"
  }
 },
 "nbformat": 4,
 "nbformat_minor": 2
}
