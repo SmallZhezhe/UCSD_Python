{
 "cells": [
  {
   "cell_type": "code",
   "execution_count": 3,
   "metadata": {},
   "outputs": [
    {
     "name": "stdout",
     "output_type": "stream",
     "text": [
      "result_NMI: 0.7885634192824773\n"
     ]
    },
    {
     "name": "stderr",
     "output_type": "stream",
     "text": [
      "/home/liyunzhe/Downloads/enter/lib/python3.7/site-packages/sklearn/metrics/cluster/supervised.py:859: FutureWarning: The behavior of NMI will change in version 0.22. To match the behavior of 'v_measure_score', NMI will use average_method='arithmetic' by default.\n",
      "  FutureWarning)\n"
     ]
    }
   ],
   "source": [
    "from sklearn.cluster import KMeans\n",
    "from sklearn import preprocessing\n",
    "import numpy as np\n",
    "from sklearn import metrics\n",
    "from sklearn.cluster import AgglomerativeClustering\n",
    "from sklearn.decomposition import KernelPCA\n",
    "#导入数据\n",
    "X = np.loadtxt('breast.txt')#此处要进行np的import  import numpy as np\n",
    "#获取标签\n",
    "label = X[:,9]\n",
    "label = label/2 -1\n",
    "for i in range(len(label)): \n",
    "    if label[i] == 0: \n",
    "        label[i] = 1\n",
    "    else:\n",
    "        label[i] = 0\n",
    "X = np.delete(X,9,axis=1)\n",
    "#数据标准化\n",
    "scaler = preprocessing.StandardScaler()\n",
    "X_scaled = scaler.fit_transform(X)\n",
    "#from sklearn.decomposition import PCA\n",
    "#pca=PCA(n_components=5)\n",
    "#pca.fit(X)\n",
    "#x = pca.transform(X)\n",
    "\n",
    "rbf_pca=KernelPCA(n_components=2,kernel='rbf',gamma=0.04)\n",
    "x=rbf_pca.fit_transform(X_scaled)\n",
    "\n",
    "#层次聚类\n",
    "clustering = AgglomerativeClustering().fit(X)\n",
    "\n",
    "#clustering\n",
    "\n",
    "#AgglomerativeClustering()\n",
    "\n",
    "clustering.labels_\n",
    "\n",
    "#kmean聚类\n",
    "#kmeans = KMeans(n_clusters=2, random_state=0, max_iter=1000)#新建KMeans对象，并传入参数\n",
    "#print(x)\n",
    "#s = kmeans.fit(x)#进行训练\n",
    "#print(s)\n",
    "#print(kmeans.labels_)\n",
    "#print(kmeans.predict([[0, 0], [4, 4]]))\n",
    "\n",
    "#print(kmeans.cluster_centers_)\n",
    "\n",
    "\n",
    "#result_NMI=metrics.normalized_mutual_info_score(label, kmeans.labels_)\n",
    "result_NMI=metrics.normalized_mutual_info_score(label, clustering.labels_)\n",
    "print(\"result_NMI:\",result_NMI)"
   ]
  }
 ],
 "metadata": {
  "kernelspec": {
   "display_name": "Python 3",
   "language": "python",
   "name": "python3"
  },
  "language_info": {
   "codemirror_mode": {
    "name": "ipython",
    "version": 3
   },
   "file_extension": ".py",
   "mimetype": "text/x-python",
   "name": "python",
   "nbconvert_exporter": "python",
   "pygments_lexer": "ipython3",
   "version": "3.7.3"
  }
 },
 "nbformat": 4,
 "nbformat_minor": 2
}
